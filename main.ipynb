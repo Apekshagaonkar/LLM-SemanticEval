{
 "cells": [
  {
   "cell_type": "code",
   "execution_count": 6,
   "metadata": {},
   "outputs": [
    {
     "name": "stderr",
     "output_type": "stream",
     "text": [
      "[nltk_data] Downloading package punkt to\n",
      "[nltk_data]     /Users/apekshagaonkar/nltk_data...\n",
      "[nltk_data]   Package punkt is already up-to-date!\n"
     ]
    },
    {
     "data": {
      "text/plain": [
       "True"
      ]
     },
     "execution_count": 6,
     "metadata": {},
     "output_type": "execute_result"
    }
   ],
   "source": [
    "import torch\n",
    "from transformers import BertTokenizer, BertModel\n",
    "import nltk\n",
    "import spacy\n",
    "from sklearn.metrics.pairwise import cosine_similarity\n",
    "from nltk.tokenize import sent_tokenize\n",
    "\n",
    "# Load BERT for embeddings\n",
    "tokenizer = BertTokenizer.from_pretrained(\"bert-base-uncased\")\n",
    "model = BertModel.from_pretrained(\"bert-base-uncased\")\n",
    "\n",
    "# Load spaCy for NER and dependency parsing\n",
    "nlp = spacy.load(\"en_core_web_sm\")\n",
    "\n",
    "# Download NLTK punkt if not already available\n",
    "nltk.download(\"punkt\")\n"
   ]
  },
  {
   "cell_type": "code",
   "execution_count": 5,
   "metadata": {},
   "outputs": [
    {
     "name": "stdout",
     "output_type": "stream",
     "text": [
      "Collecting en-core-web-sm==3.8.0\n",
      "  Downloading https://github.com/explosion/spacy-models/releases/download/en_core_web_sm-3.8.0/en_core_web_sm-3.8.0-py3-none-any.whl (12.8 MB)\n",
      "\u001b[2K     \u001b[90m━━━━━━━━━━━━━━━━━━━━━━━━━━━━━━━━━━━━━━━━\u001b[0m \u001b[32m12.8/12.8 MB\u001b[0m \u001b[31m6.8 MB/s\u001b[0m eta \u001b[36m0:00:00\u001b[0m00:01\u001b[0m00:01\u001b[0m\n",
      "\u001b[?25hInstalling collected packages: en-core-web-sm\n",
      "Successfully installed en-core-web-sm-3.8.0\n",
      "\u001b[38;5;2m✔ Download and installation successful\u001b[0m\n",
      "You can now load the package via spacy.load('en_core_web_sm')\n"
     ]
    }
   ],
   "source": [
    "!python -m spacy download en_core_web_sm\n",
    "!pip install spacy "
   ]
  },
  {
   "cell_type": "code",
   "execution_count": 7,
   "metadata": {},
   "outputs": [],
   "source": [
    "# This function computes cosine similarity between embeddings of the generated and reference texts.\n",
    "def get_sentence_embedding(sentence):\n",
    "    inputs = tokenizer(sentence, return_tensors=\"pt\")\n",
    "    outputs = model(**inputs)\n",
    "    embeddings = outputs.last_hidden_state.mean(dim=1)  # Mean pooling\n",
    "    return embeddings.detach().numpy()\n",
    "\n",
    "def semantic_relevance_score(reference_text, generated_text):\n",
    "    ref_embedding = get_sentence_embedding(reference_text)\n",
    "    gen_embedding = get_sentence_embedding(generated_text)\n",
    "    similarity = cosine_similarity(ref_embedding, gen_embedding)\n",
    "    return similarity[0][0]  # Cosine similarity score\n"
   ]
  },
  {
   "cell_type": "code",
   "execution_count": 21,
   "metadata": {},
   "outputs": [],
   "source": [
    "# This function checks for logical flow by evaluating cosine similarity between adjacent sentences.\n",
    "def coherence_score(text):\n",
    "    sentences = sent_tokenize(text)\n",
    "    if len(sentences) < 2:\n",
    "        return 1.0  # Single sentence, coherence is trivially high\n",
    "\n",
    "    coherence_scores = []\n",
    "    for i in range(len(sentences) - 1):\n",
    "        sent_embedding_1 = get_sentence_embedding(sentences[i])\n",
    "        sent_embedding_2 = get_sentence_embedding(sentences[i + 1])\n",
    "        similarity = cosine_similarity(sent_embedding_1, sent_embedding_2)\n",
    "        coherence_scores.append(similarity[0][0])\n",
    "\n",
    "    return sum(coherence_scores) / len(coherence_scores)  # Average coherence\n"
   ]
  },
  {
   "cell_type": "code",
   "execution_count": 22,
   "metadata": {},
   "outputs": [],
   "source": [
    "# This function uses NER to identify and compare key entities between the reference and generated text.\n",
    "def extract_entities(text):\n",
    "    doc = nlp(text)\n",
    "    entities = {(ent.text, ent.label_) for ent in doc.ents}\n",
    "    return entities\n",
    "\n",
    "def factual_accuracy_score(reference_text, generated_text):\n",
    "    ref_entities = extract_entities(reference_text)\n",
    "    gen_entities = extract_entities(generated_text)\n",
    "    \n",
    "    # Calculate factual accuracy as the proportion of correct entities\n",
    "    matched_entities = ref_entities.intersection(gen_entities)\n",
    "    if len(ref_entities) == 0:  # Avoid division by zero\n",
    "        return 1.0 if len(gen_entities) == 0 else 0.0\n",
    "    return len(matched_entities) / len(ref_entities)\n"
   ]
  },
  {
   "cell_type": "code",
   "execution_count": 11,
   "metadata": {},
   "outputs": [],
   "source": [
    "def evaluate_generated_text(reference_text, generated_text, weights=None):\n",
    "    if weights is None:\n",
    "        weights = {\"semantic\": 0.4, \"coherence\": 0.3, \"factual\": 0.3}\n",
    "\n",
    "    # Calculate individual scores\n",
    "    semantic_score = semantic_relevance_score(reference_text, generated_text)\n",
    "    coherence_score_val = coherence_score(generated_text)\n",
    "    factual_score = factual_accuracy_score(reference_text, generated_text)\n",
    "\n",
    "    # Weighted average for final score\n",
    "    final_score = (\n",
    "        weights[\"semantic\"] * semantic_score +\n",
    "        weights[\"coherence\"] * coherence_score_val +\n",
    "        weights[\"factual\"] * factual_score\n",
    "    )\n",
    "    \n",
    "    return {\n",
    "        \"Semantic Relevance\": semantic_score,\n",
    "        \"Contextual Coherence\": coherence_score_val,\n",
    "        \"Factual Accuracy\": factual_score,\n",
    "        \"Final Score\": final_score\n",
    "    }\n"
   ]
  },
  {
   "cell_type": "code",
   "execution_count": 14,
   "metadata": {},
   "outputs": [
    {
     "name": "stdout",
     "output_type": "stream",
     "text": [
      "Evaluation Results:\n",
      "Semantic Relevance: 0.91\n",
      "Contextual Coherence: 0.65\n",
      "Factual Accuracy: 1.00\n",
      "Final Score: 0.86\n"
     ]
    }
   ],
   "source": [
    "reference_text = \"John and Mary went on an adventurous journey across Spain. They encountered many challenges but grew closer as friends.\"\n",
    "generated_text = \"John and Mary traveled through Spain and faced many obstacles. Their friendship deepened as they supported each other.\"\n",
    "\n",
    "# Evaluate the generated text\n",
    "results = evaluate_generated_text(reference_text, generated_text)\n",
    "print(\"Evaluation Results:\")\n",
    "for metric, score in results.items():\n",
    "    print(f\"{metric}: {score:.2f}\")\n"
   ]
  },
  {
   "cell_type": "code",
   "execution_count": 23,
   "metadata": {},
   "outputs": [
    {
     "name": "stdout",
     "output_type": "stream",
     "text": [
      "\n",
      "--- Example 1 ---\n",
      "Generated Text: John and Mary traveled across Spain, facing numerous obstacles along the way. Their friendship strengthened as they supported each other through the challenges.\n",
      "Semantic Relevance Score: 0.89\n",
      "Contextual Coherence Score: 0.72\n",
      "Factual Accuracy Score: 1.00\n",
      "\n",
      "--- Example 2 ---\n",
      "Generated Text: John and Mary had a thrilling adventure across Europe. They sometimes disagreed, but the journey helped them become good friends.\n",
      "Semantic Relevance Score: 0.93\n",
      "Contextual Coherence Score: 0.72\n",
      "Factual Accuracy Score: 0.67\n",
      "\n",
      "--- Example 3 ---\n",
      "Generated Text: Mary and John enjoyed a relaxing vacation in Spain, visiting several famous landmarks and spending time on the beaches.\n",
      "Semantic Relevance Score: 0.80\n",
      "Contextual Coherence Score: 1.00\n",
      "Factual Accuracy Score: 1.00\n",
      "\n",
      "--- Example 4 ---\n",
      "Generated Text: John decided to stay in New York while Mary traveled to Italy. They barely communicated during this time, leading to a strained relationship.\n",
      "Semantic Relevance Score: 0.84\n",
      "Contextual Coherence Score: 0.64\n",
      "Factual Accuracy Score: 0.67\n",
      "\n",
      "--- Example 5 ---\n",
      "Generated Text: John and Mary went to Spain. On this journey, they encountered obstacles. John thought the trip was challenging. Mary grew closer to John.\n",
      "Semantic Relevance Score: 0.88\n",
      "Contextual Coherence Score: 0.65\n",
      "Factual Accuracy Score: 1.00\n"
     ]
    }
   ],
   "source": [
    "# Reference Text\n",
    "reference_text = \"John and Mary went on an adventurous journey across Spain. They encountered many challenges but grew closer as friends.\"\n",
    "\n",
    "# Example Texts\n",
    "examples = [\n",
    "    \"John and Mary traveled across Spain, facing numerous obstacles along the way. Their friendship strengthened as they supported each other through the challenges.\",  # High relevance, coherence, accuracy\n",
    "    \"John and Mary had a thrilling adventure across Europe. They sometimes disagreed, but the journey helped them become good friends.\",  # Moderate relevance, coherence, low accuracy\n",
    "    \"Mary and John enjoyed a relaxing vacation in Spain, visiting several famous landmarks and spending time on the beaches.\",  # Low relevance, high coherence, moderate accuracy\n",
    "    \"John decided to stay in New York while Mary traveled to Italy. They barely communicated during this time, leading to a strained relationship.\",  # Low relevance, coherence, accuracy\n",
    "    \"John and Mary went to Spain. On this journey, they encountered obstacles. John thought the trip was challenging. Mary grew closer to John.\"  # High relevance, low coherence, high accuracy\n",
    "]\n",
    "\n",
    "# Evaluate each example\n",
    "for i, generated_text in enumerate(examples,1):\n",
    "    print(f\"\\n--- Example {i} ---\")\n",
    "    \n",
    "    # Calculate individual metric scores\n",
    "    semantic_score = semantic_relevance_score(reference_text, generated_text)\n",
    "    coherence_score_val = coherence_score(generated_text)\n",
    "    factual_score = factual_accuracy_score(reference_text, generated_text)\n",
    "    \n",
    "    # Display results\n",
    "    print(f\"Generated Text: {generated_text}\")\n",
    "    print(f\"Semantic Relevance Score: {semantic_score:.2f}\")\n",
    "    print(f\"Contextual Coherence Score: {coherence_score_val:.2f}\")\n",
    "    print(f\"Factual Accuracy Score: {factual_score:.2f}\")\n"
   ]
  },
  {
   "cell_type": "code",
   "execution_count": null,
   "metadata": {},
   "outputs": [],
   "source": []
  }
 ],
 "metadata": {
  "kernelspec": {
   "display_name": "ece228",
   "language": "python",
   "name": "python3"
  },
  "language_info": {
   "codemirror_mode": {
    "name": "ipython",
    "version": 3
   },
   "file_extension": ".py",
   "mimetype": "text/x-python",
   "name": "python",
   "nbconvert_exporter": "python",
   "pygments_lexer": "ipython3",
   "version": "3.12.3"
  },
  "orig_nbformat": 4
 },
 "nbformat": 4,
 "nbformat_minor": 2
}
